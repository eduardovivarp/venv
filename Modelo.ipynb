{
 "cells": [
  {
   "cell_type": "code",
   "execution_count": 32,
   "metadata": {},
   "outputs": [
    {
     "name": "stdout",
     "output_type": "stream",
     "text": [
      "RMSE: 13.355677809653777\n",
      "{'predicted_price': 15.821669755113248, 'rmse': 13.355677809653777}\n"
     ]
    },
    {
     "name": "stderr",
     "output_type": "stream",
     "text": [
      "c:\\Courses\\Henry\\M7_PI\\venv\\Lib\\site-packages\\sklearn\\base.py:464: UserWarning: X does not have valid feature names, but LinearRegression was fitted with feature names\n",
      "  warnings.warn(\n"
     ]
    }
   ],
   "source": [
    "# Modelo\n",
    "import pandas as pd\n",
    "from sklearn.model_selection import train_test_split\n",
    "from sklearn.linear_model import LinearRegression\n",
    "from sklearn.metrics import mean_squared_error\n",
    "import joblib\n",
    "import math\n",
    "# Cargar y preprocesar el DataFrame\n",
    "df = pd.read_csv('solo_anio.csv')\n",
    "#df['release_year'] = df['release_date'].str[:4].astype(int)  # Extraer el año de lanzamiento\n",
    "\n",
    "# Definir las características y la variable objetivo\n",
    "# Definir las características y la variable objetivo\n",
    "features = ['year', 'metascore']\n",
    "target = 'price'\n",
    "\n",
    "# Preparar los datos de entrenamiento y prueba\n",
    "X = df[features]\n",
    "y = df[target]\n",
    "X_train, X_test, y_train, y_test = train_test_split(X, y, test_size=0.2, random_state=42)\n",
    "\n",
    "# Entrenar un modelo de regresión lineal\n",
    "model = LinearRegression()\n",
    "model.fit(X_train, y_train)\n",
    "\n",
    "# Evaluar el modelo en el conjunto de prueba\n",
    "y_pred = model.predict(X_test)\n",
    "mse = mean_squared_error(y_test, y_pred)\n",
    "rmse = math.sqrt(mse)\n",
    "print(f'RMSE: {rmse}')\n",
    "\n",
    "# Guardar el modelo entrenado\n",
    "joblib.dump(model, 'modelo_entrenado.pkl')\n",
    "\n",
    "# Definir la función de predicción para la API\n",
    "def prediccion(genero, year, metascore):\n",
    "    model = joblib.load('modelo_entrenado.pkl')\n",
    "    input_data = [[year, metascore]]\n",
    "    predicted_price = model.predict(input_data)[0]\n",
    "    return {\"predicted_price\": predicted_price, \"rmse\": rmse}\n",
    "\n",
    "resultado = prediccion(any,2014,80)\n",
    "print(resultado)"
   ]
  }
 ],
 "metadata": {
  "kernelspec": {
   "display_name": "venv",
   "language": "python",
   "name": "python3"
  },
  "language_info": {
   "codemirror_mode": {
    "name": "ipython",
    "version": 3
   },
   "file_extension": ".py",
   "mimetype": "text/x-python",
   "name": "python",
   "nbconvert_exporter": "python",
   "pygments_lexer": "ipython3",
   "version": "3.11.2"
  },
  "orig_nbformat": 4
 },
 "nbformat": 4,
 "nbformat_minor": 2
}
